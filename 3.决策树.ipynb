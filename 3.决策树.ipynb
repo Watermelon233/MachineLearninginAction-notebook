{
 "cells": [
  {
   "cell_type": "markdown",
   "metadata": {
    "collapsed": true
   },
   "source": [
    "### 决策树流程\n",
    "1. 提取特征\n",
    "2. 评估特征\n",
    "\n",
    "### 决策树\n",
    "+ 优点：计算复杂度不高，输出结果易理解，对中间值缺失不敏感，可以处理不相关特征数据\n",
    "+ 缺点：可能会产生过拟合问题\n",
    "+ 适用于：数值型数据和标称型数据\n"
   ]
  },
  {
   "cell_type": "code",
   "execution_count": null,
   "metadata": {
    "collapsed": true
   },
   "outputs": [],
   "source": []
  }
 ],
 "metadata": {
  "kernelspec": {
   "display_name": "Python 3",
   "language": "python",
   "name": "python3"
  },
  "language_info": {
   "codemirror_mode": {
    "name": "ipython",
    "version": 3
   },
   "file_extension": ".py",
   "mimetype": "text/x-python",
   "name": "python",
   "nbconvert_exporter": "python",
   "pygments_lexer": "ipython3",
   "version": "3.6.3"
  }
 },
 "nbformat": 4,
 "nbformat_minor": 2
}
